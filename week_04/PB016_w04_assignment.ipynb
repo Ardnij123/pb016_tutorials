{
  "nbformat": 4,
  "nbformat_minor": 0,
  "metadata": {
    "kernelspec": {
      "display_name": "Python 3",
      "language": "python",
      "name": "python3"
    },
    "language_info": {
      "codemirror_mode": {
        "name": "ipython",
        "version": 3
      },
      "file_extension": ".py",
      "mimetype": "text/x-python",
      "name": "python",
      "nbconvert_exporter": "python",
      "pygments_lexer": "ipython3",
      "version": "3.6.1"
    },
    "colab": {
      "provenance": []
    }
  },
  "cells": [
    {
      "cell_type": "markdown",
      "metadata": {
        "id": "Kt9McKpqzmsN"
      },
      "source": [
        "# PB016: Artificial Intelligence I, lab 4 - Problem decomposition, CSP\n",
        "\n",
        "This week's topic are decomposition and various sample representations of problems, as well as their solution using search and constraint satisfaction. We'll focus namely on:\n",
        "\n",
        "1. __Decomposition of problems using AND/OR trees__\n",
        "2. __Constraint satisfaction problems__"
      ]
    },
    {
      "cell_type": "markdown",
      "metadata": {
        "id": "L-4TbmzlzmsO"
      },
      "source": [
        "---\n",
        "\n",
        "## 1. Decomposition of problems using [AND/OR trees](https://en.wikipedia.org/wiki/And%E2%80%93or_tree)\n",
        "\n",
        "__Basic facts__\n",
        "- AND / OR trees are graphical representations of a problem and its recursive reduction to conjunctions and disjunctions of subproblems.\n",
        "- There are two alternating types of nodes in the tree - AND and OR.\n",
        "  - An AND node has a solution if all its successor nodes (neighbours) have a solution. The edges between the AND node and its successors are connected by an arc according to the standard notation convention, which distinguishes them from the OR nodes.\n",
        "  - An OR node has a solution if at least one of its successor nodes has a solution.\n",
        "- Leaves are atomic problems for which we know whether they have a solution or not.\n",
        "- The problem represented this way can be solved by searching the graph (using DFS, BFS, best-first search, etc.).\n",
        "\n",
        "__Example__ - a sample abstract AND/OR tree:\n",
        "\n",
        "![AND/OR tree](https://www.fi.muni.cz/~novacek/courses/pb016/labs/img/andortree.png)"
      ]
    },
    {
      "cell_type": "markdown",
      "metadata": {
        "id": "-4behK8LzmsP"
      },
      "source": [
        " ### __Exercise 1.1: Representation of a dragon problem using an AND/OR tree__\n",
        "- Use the [NetworkX](https://networkx.github.io/) library (or any other approach that suits you) to create an AND/OR tree representing the following problem:\n",
        " - The primary goal is to _free a kingdom from the rule of a dragon-tyrant_. This can be solved either by _confronting the tyrant_ or by _praying that the dragon will get the hell out of its den and fly where it came from_.\n",
        " - In order to _stand up to the dragon_, we must _go to his den_ and confront him.\n",
        " - The confrontation with the dragon itself can then be solved in various ways: we can _try to use our strength and kill the dragon_, or we can _rely on our eloquence and convince the dragon that being a tyrant is not OK_.\n",
        "- Hints:\n",
        " - Without loss of generality, it can be assumed that the root node is an OR one, and in each subsequent level of the tree the types of nodes alternate regularly (therefore it's not necessary to explicitly store this information in the graph).\n",
        " - To describe the (sub)problems (i.e. graph nodes) and store information about their being solved or not, you can use the corresponding global annotation dictionaries `description` and` solved`. Alternatively, these can be passed as arguments to your functions.\n",
        " - At the beginning, mark the leaf problems that could be atomic solutions as solved and consider the rest unresolved. The actual atomic solutions are entirely up to you (note that the sample solution is nevertheless pacifist)."
      ]
    },
    {
      "cell_type": "code",
      "metadata": {
        "scrolled": true,
        "id": "zRW4rIgSzmsQ"
      },
      "source": [
        "import networkx as nx\n",
        "\n",
        "# representation of the AND/OR tree by an oriented graph\n",
        "G = nx.DiGraph()\n",
        "\n",
        "# filling the graph with nodes representing the problem and its decomposition\n",
        "# (e.g. using function G.add_nodes_from([1,2,3,...]))\n",
        "# TODO - ADD YOURSELF\n",
        "\n",
        "# initialize the appropriate dictionaries with node annotations\n",
        "\n",
        "description = {\n",
        "     # TODO - COMPLETE YOURSELF\n",
        "     #        (e.g. records of type 1:\"Get rid of the tyrant dragon.\")\n",
        "}\n",
        "\n",
        "solved = {\n",
        "     # TODO - COMPLETE YOURSELF\n",
        "     #        (e.g. records of type 1:False)\n",
        "}\n",
        "\n",
        "# add matching edges to the graph G\n",
        "# TODO - COMPLETE YOURSELF\n",
        "#        (e.g. using the function G.add_edges_from ([(1,2), (1,3), (2,4), ...]),\n",
        "#        where 1 is the initial OR node, 2,3 are AND nodes, 4 is an OR node,\n",
        "#        etc.)"
      ],
      "execution_count": null,
      "outputs": []
    },
    {
      "cell_type": "markdown",
      "metadata": {
        "id": "yj5V3WcHkoAz"
      },
      "source": [
        "### Main function for searching the AND/OR tree\n",
        "- Depth-search of the created AND/OR tree, checking for a solution of the dragon problem.\n",
        "- Recursively searches the problem representation tree from the primary goal node (i.e. the root node), calling specific functions for AND and OR nodes and continuously updating the `solved` values for each node."
      ]
    },
    {
      "cell_type": "code",
      "metadata": {
        "id": "9no6wNl2k7ak"
      },
      "source": [
        "def and_or_depth_first_search(graph, problem):\n",
        "    \"\"\"A wrapper function to perform the AND/OR tree search. The nodes\n",
        "    alternate, starting with an OR node.\n",
        "\n",
        "    NOTE: The function does not return anything. Instead, it updates the GLOBAL\n",
        "    structure `solved`, which can then be used for constructing the solution\n",
        "    sub-tree of the original problem tree.\n",
        "\n",
        "    Parameters\n",
        "    ----------\n",
        "    graph : networkx.Graph\n",
        "        The AND-OR graph representing the top-level problem and its subproblems.\n",
        "    problem : int\n",
        "        The node in the graph representing the current (sub)problem to be\n",
        "        solved.\n",
        "    \"\"\"\n",
        "\n",
        "    or_search(graph, problem)"
      ],
      "execution_count": null,
      "outputs": []
    },
    {
      "cell_type": "markdown",
      "metadata": {
        "id": "wksxhOoTzmsa"
      },
      "source": [
        "### __Exercise 1.2: Solving the dragon problem by depth-searching the AND/OR tree - OR nodes__\n",
        "- Implement the function for exploring the OR nodes.\n",
        "- Hint - calls the function for searching AND nodes for all descendants of the node."
      ]
    },
    {
      "cell_type": "code",
      "metadata": {
        "id": "J3oZvKvgzmsb"
      },
      "source": [
        "def or_search(graph, problem):\n",
        "    \"\"\"Realises the OR part of the AND/OR tree search.\n",
        "\n",
        "    NOTE: The function does not return anything. Instead, it updates the GLOBAL\n",
        "    structure `solved`, which can then be used for constructing the solution\n",
        "    sub-tree of the original problem tree.\n",
        "\n",
        "    Parameters\n",
        "    ----------\n",
        "    graph : networkx.Graph\n",
        "        The AND-OR graph representing the top-level problem and its subproblems.\n",
        "    problem : int\n",
        "        The node in the graph representing the current (sub)problem to be\n",
        "        solved.\n",
        "    \"\"\"\n",
        "\n",
        "    # TODO - COMPLETE YOURSELF\n",
        "    # REMINDER: to get the neighbours of the node x, use graph[x]\n",
        "\n",
        "    pass # TODO - remove in the actual implementation"
      ],
      "execution_count": null,
      "outputs": []
    },
    {
      "cell_type": "markdown",
      "metadata": {
        "id": "Uje6nsUJlmpV"
      },
      "source": [
        "### __Exercise 1.3: Solving the dragon problem by depth-searching the AND/OR tree - AND nodes__\n",
        "- Implement the function for exploring the AND nodes.\n",
        "- Hint - calls the function for searching OR nodes for all descendants of the node."
      ]
    },
    {
      "cell_type": "code",
      "metadata": {
        "id": "--uE77EHlmpX"
      },
      "source": [
        "# searching the AND nodes\n",
        "\n",
        "def and_search(graph, problem):\n",
        "    \"\"\"Realises the AND part of the AND/OR tree search.\n",
        "\n",
        "    NOTE: The function does not return anything. Instead, it updates the GLOBAL\n",
        "    structure `solved`, which can then be used for constructing the solution\n",
        "    sub-tree of the original problem tree.\n",
        "\n",
        "    Parameters\n",
        "    ----------\n",
        "    graph : networkx.Graph\n",
        "        The AND-OR graph representing the top-level problem and its subproblems.\n",
        "    problem : int\n",
        "        The node in the graph representing the current (sub)problem to be\n",
        "        solved.\n",
        "    \"\"\"\n",
        "\n",
        "    # TODO - COMPLETE YOURSELF\n",
        "    pass # TODO - remove in the actual implementation"
      ],
      "execution_count": null,
      "outputs": []
    },
    {
      "cell_type": "markdown",
      "metadata": {
        "id": "xKWgtO6XmZWh"
      },
      "source": [
        "### Testing the solution existence"
      ]
    },
    {
      "cell_type": "code",
      "metadata": {
        "id": "y3ae8XhjmepI"
      },
      "source": [
        "# testing the existence of the solution\n",
        "and_or_depth_first_search(G, 1)\n",
        "if solved[1]:\n",
        "    print('Solution exists.')\n",
        "else:\n",
        "    print('Solution does not exist.')"
      ],
      "execution_count": null,
      "outputs": []
    },
    {
      "cell_type": "markdown",
      "metadata": {
        "id": "ybl1PeDfzmsk"
      },
      "source": [
        "### __Exercise 1.4: Listing the solution plan__\n",
        "- Search the solved tree and print out the decomposition of the main problem into subproblems that have solutions.\n",
        "- Hint:\n",
        " - A possible way how to implement this is similar to the search algorithm itself.\n",
        " - One may recursively call the composition of the plan text using alternate traversal of AND and OR nodes, keeping track of which node one is in (e.g., via a map of dual nodes, as in the sample solution).\n",
        " - The plan text itself may follow for instance the form: $G \\; \\leftarrow \\; S_1 \\; [AND | OR] \\; S_2 \\; [AND | OR] \\; \\dots \\; [AND | OR] \\; S_n $ for problem $ G $ and subproblems $ S_1, \\dots, S_n $.\n",
        " - An example (multiple) solution plan: _Get rid of the dragon-tyrant. <-- (Stand up to the dragon. <-- (Go to the dragon's den. <-- (Convince the dragon not to be a tyrant.)) OR Pray for the dragon to disappear.)_"
      ]
    },
    {
      "cell_type": "code",
      "metadata": {
        "id": "cQt3Dmnmzmsl"
      },
      "source": [
        "def generate_plan(graph, problem):\n",
        "    \"\"\"A wrapper function for generating a solution plan by calling the\n",
        "    `generate_sub_plan()` function for the top-level (OR) node.\n",
        "\n",
        "    Parameters\n",
        "    ----------\n",
        "    graph : networkx.Graph\n",
        "        The AND-OR graph representing the top-level problem and its subproblems.\n",
        "    problem : int\n",
        "        The node in the graph representing the current (sub)problem to be\n",
        "        solved.\n",
        "\n",
        "    Returns\n",
        "    -------\n",
        "    str\n",
        "        The string representation of the solution plan based on the\n",
        "        solution sub-tree of the original AND-OR problem tree that is\n",
        "        determined by the `True` node values recorded in the `solved` global\n",
        "        structure.\n",
        "    \"\"\"\n",
        "\n",
        "    return generate_sub_plan(graph,problem,' OR ')\n",
        "\n",
        "\n",
        "# opposite node types (can also be used as sub-strings in the solution plan)\n",
        "dual_node_type = {\n",
        "     ' OR ': ' AND ',\n",
        "     ' AND ': ' OR '\n",
        "}\n",
        "\n",
        "\n",
        "def generate_sub_plan(graph, problem, node_type):\n",
        "    \"\"\"Generate sub-plan for OR or AND node (to be called in an alternating\n",
        "    manner).\n",
        "\n",
        "    Parameters\n",
        "    ----------\n",
        "    graph : networkx.Graph\n",
        "        The AND-OR graph representing the top-level problem and its subproblems.\n",
        "    problem : int\n",
        "        The node in the graph representing the current (sub)problem to be\n",
        "        used for generating the solution plan.\n",
        "    node_type : str\n",
        "        One of ' OR ', ' AND ' values determining the current type of node in\n",
        "        the graph.\n",
        "\n",
        "    Returns\n",
        "    -------\n",
        "    str\n",
        "        The string representation of the plan based on the solution of the\n",
        "        current sub-problem.\n",
        "    \"\"\"\n",
        "\n",
        "    # TODO - ADD YOURSELF\n",
        "    return '' # TODO - return the actual sub-plan description"
      ],
      "execution_count": null,
      "outputs": []
    },
    {
      "cell_type": "code",
      "source": [
        "# print a plan corresponding to the solution of the previous example\n",
        "if solved[1]:\n",
        "    print('Solution exists and the corresponding plan is: \\n')\n",
        "    print(generate_plan(G, 1))\n",
        "else:\n",
        "    print('Solution does not exist.')"
      ],
      "metadata": {
        "id": "VDl_Uapvs1HE"
      },
      "execution_count": null,
      "outputs": []
    },
    {
      "cell_type": "markdown",
      "metadata": {
        "id": "hzs1BVhzzmsv"
      },
      "source": [
        "#### __Food for thought__\n",
        "- How could the AND/OR tree representation be modified to use a best-first search?\n",
        "- Hint:\n",
        "  - Annotation of nodes, or edges with weights that reflect preferred solutions to subproblems.\n",
        "  - Greedy unpacking of nodes connected to the parent via an edge with a better weight."
      ]
    },
    {
      "cell_type": "markdown",
      "metadata": {
        "id": "b1c7KCoWzmsv"
      },
      "source": [
        "---\n",
        "\n",
        "## 2. Constraint satisfaction problems ([CSP](https://en.wikipedia.org/wiki/Constraint_satisfaction_problem))\n",
        "\n",
        "__Basic facts__\n",
        "- Modeling problems as sets of variables that can take values from predefined domains.\n",
        "- The values of the variables are limited by a set of constraints that correspond to the structure of the problem.\n",
        "- The solution of the problem then corresponds to finding such an assignment of values to individual variables that it satisfies all the constraints and doesn't omit any variable.\n",
        "- The field is an intensive subject of research in informatics and especially AI, and thus there are a number of off-the-shelf tools to address CSP."
      ]
    },
    {
      "cell_type": "markdown",
      "metadata": {
        "id": "w196RscIzmsw"
      },
      "source": [
        "### Example of a simple abstract CSP problem and its solution\n",
        "- Problem with two variables $A \\in \\{1,2,3\\} $ and $B \\in \\{4,5,6\\}$ and one constraint $2A = B$.\n",
        "- Representation of variables using the package [`python-constraint`](https://github.com/python-constraint/python-constraint):"
      ]
    },
    {
      "cell_type": "code",
      "source": [
        "# installing the package first\n",
        "!pip install python-constraint"
      ],
      "metadata": {
        "id": "EcbSEE-yjPay"
      },
      "execution_count": null,
      "outputs": []
    },
    {
      "cell_type": "code",
      "metadata": {
        "scrolled": true,
        "id": "UZgy-j6fzmsw"
      },
      "source": [
        "# defining the problem variables\n",
        "from constraint import *\n",
        "\n",
        "problem = Problem()\n",
        "problem.addVariable('A', [1, 2, 3])\n",
        "problem.addVariable('B', [4, 5, 6])"
      ],
      "execution_count": null,
      "outputs": []
    },
    {
      "cell_type": "markdown",
      "metadata": {
        "id": "6c_qa1hdzms0"
      },
      "source": [
        "- Solving the problem without the constraint:"
      ]
    },
    {
      "cell_type": "code",
      "metadata": {
        "scrolled": true,
        "id": "qebPqSF_zms1"
      },
      "source": [
        "problem.getSolutions()"
      ],
      "execution_count": null,
      "outputs": []
    },
    {
      "cell_type": "markdown",
      "metadata": {
        "id": "SoOEPqDmzms4"
      },
      "source": [
        "- Solving the problem with the constraint:"
      ]
    },
    {
      "cell_type": "code",
      "metadata": {
        "id": "HzHUYf52zms5"
      },
      "source": [
        "# here we add a constraint as a lambda function, which is applied to vars A, B\n",
        "problem.addConstraint(lambda x, y: 2 * x == y, ('A','B'))\n",
        "problem.getSolutions()"
      ],
      "execution_count": null,
      "outputs": []
    },
    {
      "cell_type": "markdown",
      "metadata": {
        "id": "u-XtGcb-xjV4"
      },
      "source": [
        "- Solving the problem with another variable and constraint:"
      ]
    },
    {
      "cell_type": "code",
      "metadata": {
        "id": "4Lf0cnPqP22p"
      },
      "source": [
        "problem.addVariable('C', [1, 2])\n",
        "\n",
        "# again, constraint is given as a lambda function, this time applied to var C\n",
        "problem.addConstraint(lambda x: x == 1, ('C'))\n",
        "problem.getSolutions()"
      ],
      "execution_count": null,
      "outputs": []
    },
    {
      "cell_type": "markdown",
      "metadata": {
        "id": "CRZk1kjI4XoM"
      },
      "source": [
        "### __Exercise 2.1: Map coloring problem__\n",
        "- Let us consider the following map of Australia from the problem discussed in the lecture:\n",
        "\n",
        "![Australia](https://www.fi.muni.cz/~novacek/courses/pb016/labs/img/australia.png)\n",
        "\n",
        "- Use the CSP library [`python-constraint`](https://github.com/python-constraint/python-constraint) to solve the problem of coloring this map with three colors so that no two neighboring states have the same color."
      ]
    },
    {
      "cell_type": "code",
      "metadata": {
        "id": "1nk7ME_n6Ont"
      },
      "source": [
        "# initialising the problem\n",
        "map_colouring = Problem()\n",
        "\n",
        "# adding variables (states), each with the same colour domain\n",
        "map_colouring.addVariable('WA', ['red', 'blue', 'green'])  # Western Australia\n",
        "map_colouring.addVariable('NT', ['red', 'blue', 'green'])  # Northern Territory\n",
        "map_colouring.addVariable('Q', ['red', 'blue', 'green'])   # Queensland\n",
        "map_colouring.addVariable('NSW', ['red', 'blue', 'green']) # New South Wales\n",
        "map_colouring.addVariable('V', ['red', 'blue', 'green'])   # Victoria\n",
        "map_colouring.addVariable('SA', ['red', 'blue', 'green'])  # South Australia\n",
        "map_colouring.addVariable('T', ['red', 'blue', 'green'])   # Tasmania\n",
        "\n",
        "# adding contraints using map_colouring.addConstraint(...)\n",
        "\n",
        "# TODO - COMPLETE YOURSELF\n",
        "\n",
        "# computing and printing the result\n",
        "# NOTE: do not run before adding some constraints (too many solutions printed)\n",
        "solutions = map_colouring.getSolutions()\n",
        "print(f'Found {len(solutions)} solutions for colouring the Australia map:')\n",
        "print('\\n'.join([str(x) for x in solutions]))"
      ],
      "execution_count": null,
      "outputs": []
    },
    {
      "cell_type": "markdown",
      "metadata": {
        "id": "P5S3KXx2zmtB"
      },
      "source": [
        " ### __*Exercise 2.2: Representation of the [8 queens puzzle](https://en.wikipedia.org/wiki/Eight_queens_puzzle) as CSP__\n",
        "- Represent the 8 queens problem using the CSP library [`python-constraint`](https://github.com/python-constraint/python-constraint).\n",
        "- Notes on the solution:\n",
        " - For more concise code, you can use the `addVariables(variables,domain)` function. It bulk-adds `variables`, each of which can take one of the values ​​in the `domain` set.\n",
        " - Variables can correspond, for example, to the columns where the individual queens are located on the board (we know that there can be a maximum of one queen in one column).\n",
        " - The values ​​of the variables then correspond to the rows in which the queens are located.\n",
        " - Example: If the variables correspond to numbers from $0$ to $7$ (i.e. Python indexes of the column coordinates on the board) and the possible values ​​of these variables also have a domain of numbers from $0$ to $7$, assigning the value of $1$ to the variable $7$ corresponds to placing the queen in the second row in the last column."
      ]
    },
    {
      "cell_type": "code",
      "metadata": {
        "id": "EKcm21hKzmtC"
      },
      "source": [
        "# initialising the problem and the board size\n",
        "eight_queens = Problem()\n",
        "board_size = 8\n",
        "\n",
        "# TODO - ADD THE VARIABLES YOURSELF"
      ],
      "execution_count": null,
      "outputs": []
    },
    {
      "cell_type": "markdown",
      "metadata": {
        "id": "uYM7XJC4zmtI"
      },
      "source": [
        "### __*Exercise 2.3: Solving 8 queens as CSP__\n",
        "- Solve the 8 queens problem using the CSP library [`python-constraint`](https://github.com/python-constraint/python-constraint).\n",
        "- Hint - the solution is very similar to the pseudocode from the lecture. In particular, it's quite handy to generate the constraints in a nested cycle that corresponds to a chosen representation of the placement of queens - for instance, \"from left to right\".\n",
        "- Each queen determines the constraints for queens \"to the right\" of her in this case (the first placed one for the next seven, the second for the next six, etc.).\n",
        "- The constraints are the same as in the labs for the second week of the course, only they can be expressed rather more concisely (using a `lambda` function in the `addConstraint()` method). Note that a solution with a named, externally defined function is also perfectly fine, though (the `python-constraint` package supports any function as the argument of the `addConstraint()` method)."
      ]
    },
    {
      "cell_type": "code",
      "metadata": {
        "scrolled": true,
        "id": "2d0YI0dgzmtJ"
      },
      "source": [
        "# traversing one queen at a time and adding conditions for the queens'\n",
        "# position \"to the right\" of her\n",
        "\n",
        "# TODO - ADD YOURSELF (building the constraints in a nested loop)\n",
        "\n",
        "# timed calculation of solutions\n",
        "# NOTE: do not run before adding constraints, you'll probably run out of RAM\n",
        "%time solutions = eight_queens.getSolutions()\n",
        "\n",
        "\n",
        "def print_solution(solution, n=8):\n",
        "    \"\"\"Auxiliary function for printing the solutions.\n",
        "\n",
        "    Parameters\n",
        "    ----------\n",
        "    solution : dct\n",
        "        A mapping from variables names to their values corresponding to a\n",
        "        solution of the CSP.\n",
        "    n : 8, optional (default is 8) for the 8-queens problem\n",
        "\n",
        "    Returns\n",
        "    -------\n",
        "    str\n",
        "        A string representation of the solution board.\n",
        "    \"\"\"\n",
        "\n",
        "    rows, positions = [], set(solution.items())\n",
        "    for i in range(n):\n",
        "        column = []\n",
        "        for j in range(n):\n",
        "            if (i, j) in positions:\n",
        "                column.append('Q')\n",
        "            else:\n",
        "                column.append('-')\n",
        "        rows.append(' '.join(column))\n",
        "    return '\\n'.join(rows)\n",
        "\n",
        "\n",
        "# printing the solutions\n",
        "print('Number of solutions:', len(solutions))\n",
        "print('List of solutions:\\n'+'\\n\\n'.join(['Solution '+str(i+1)+':\\n'+ \\\n",
        "                                          print_solution(solutions[i]) \\\n",
        "                                          for i in range(len(solutions))]))"
      ],
      "execution_count": null,
      "outputs": []
    },
    {
      "cell_type": "markdown",
      "metadata": {
        "collapsed": true,
        "id": "rWAh6iVrzmtP"
      },
      "source": [
        " ---\n",
        "\n",
        "#### _Final note_ - the materials used in this notebook are original works adapted from the original authors as follows:\n",
        "- Example of an AND/OR tree:\n",
        "  - Retrieved from [ResearchGate](https://www.researchgate.net/profile/Mark_Winands/publication/259655486/figure/fig1/AS:297012311412737@1447824661825/Example-of-an-AND-OR-tree-OR-nodes-shown-as-squares-AND-nodes-as-circles.png)\n",
        "  - Author: Kishimoto, Akihiro et al.\n",
        "  - Original source: Kishimoto, Akihiro & Winands, Mark & Müller, Martin & Saito, Jahn-Takeshi. (2012). Game-Tree Search Using Proof Numbers: The First Twenty Years. ICGA journal. 35. 131-156. 10.3233/ICG-2012-35302.\n",
        "  - License: N/A"
      ]
    }
  ]
}