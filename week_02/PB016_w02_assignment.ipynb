{
 "cells": [
  {
   "cell_type": "markdown",
   "metadata": {
    "id": "6UIjGYX9sQZL"
   },
   "source": [
    "# PB016: Artificial intelligence I, lab 2 - State space search\n",
    "\n",
    "Today we'll deal with basic search algorithms. We'll focus namely on:\n",
    "1. __Depth-first search__\n",
    "2. __Breadth-first search__\n",
    "3. __N-queens problem__"
   ]
  },
  {
   "cell_type": "markdown",
   "metadata": {
    "id": "uX6A5PTXsQZN"
   },
   "source": [
    "---\n",
    "\n",
    "## 1. [Depth-First Search](https://en.wikipedia.org/wiki/Depth-first_search) (DFS for short)\n",
    "\n",
    "__Basic facts__\n",
    "- One of the foundational algorithms for performing search in state spaces, which are typically represented as graphs (either explicit, or implicit, as in most actual practical problems).\n",
    "- The algorithm is based on traversing the graph from one root vertex.\n",
    "- It prioritises going as far as possible from the root at first.\n",
    "- Whenever there is nowhere else to go, the algorithm [backtracks](https://en.wikipedia.org/wiki/Backtracking) to the nearest vertex from which the search can continue.\n",
    "\n",
    "__Example__ - the order of visited notes in a sample graph:\n",
    "\n",
    "![dfs.png](https://www.fi.muni.cz/~novacek/courses/pb016/labs/img/dfs.png)"
   ]
  },
  {
   "cell_type": "markdown",
   "metadata": {
    "id": "2RDeB70UsQZN"
   },
   "source": [
    "### Recursive implementation of DFS\n",
    "- We maintain a list of visited vertices.\n",
    "- We iterate through a list of the current vertex neighbours and continue searching from every vertex that has not been visited before.\n",
    "\n",
    "Notes:\n",
    "- For creating and manipulating the graph, we use the popular [NetworkX](https://networkx.github.io/documentation/stable/index.html) library.\n",
    "- The depth-first principle doesn't necessarily mean there is always only one possible sequence in which a graph may be searched by DFS (as shown in the sample code below where the search sequence depends on the order in which the edges were added to the graph as it was being created)."
   ]
  },
  {
   "cell_type": "code",
   "execution_count": 4,
   "metadata": {
    "collapsed": true,
    "id": "fy9dSFajsQZO",
    "jupyter": {
     "outputs_hidden": true
    },
    "scrolled": true
   },
   "outputs": [
    {
     "ename": "AttributeError",
     "evalue": "module 'numpy' has no attribute 'int'.\n`np.int` was a deprecated alias for the builtin `int`. To avoid this error in existing code, use `int` by itself. Doing this will not modify any behavior and is safe. When replacing `np.int`, you may wish to use e.g. `np.int64` or `np.int32` to specify the precision. If you wish to review your current use, check the release note link for additional information.\nThe aliases was originally deprecated in NumPy 1.20; for more details and guidance see the original release note at:\n    https://numpy.org/devdocs/release/1.20.0-notes.html#deprecations",
     "output_type": "error",
     "traceback": [
      "\u001b[0;31m---------------------------------------------------------------------------\u001b[0m",
      "\u001b[0;31mAttributeError\u001b[0m                            Traceback (most recent call last)",
      "Cell \u001b[0;32mIn[4], line 1\u001b[0m\n\u001b[0;32m----> 1\u001b[0m \u001b[38;5;28;01mimport\u001b[39;00m \u001b[38;5;21;01mnetworkx\u001b[39;00m \u001b[38;5;28;01mas\u001b[39;00m \u001b[38;5;21;01mnx\u001b[39;00m\n\u001b[1;32m      3\u001b[0m \u001b[38;5;66;03m# creating the graph from the above example\u001b[39;00m\n\u001b[1;32m      5\u001b[0m G \u001b[38;5;241m=\u001b[39m nx\u001b[38;5;241m.\u001b[39mGraph()\n",
      "File \u001b[0;32m/usr/lib/python3/dist-packages/networkx/__init__.py:115\u001b[0m\n\u001b[1;32m    112\u001b[0m \u001b[38;5;28;01mimport\u001b[39;00m \u001b[38;5;21;01mnetworkx\u001b[39;00m\u001b[38;5;21;01m.\u001b[39;00m\u001b[38;5;21;01mgenerators\u001b[39;00m\n\u001b[1;32m    113\u001b[0m \u001b[38;5;28;01mfrom\u001b[39;00m \u001b[38;5;21;01mnetworkx\u001b[39;00m\u001b[38;5;21;01m.\u001b[39;00m\u001b[38;5;21;01mgenerators\u001b[39;00m \u001b[38;5;28;01mimport\u001b[39;00m \u001b[38;5;241m*\u001b[39m\n\u001b[0;32m--> 115\u001b[0m \u001b[38;5;28;01mimport\u001b[39;00m \u001b[38;5;21;01mnetworkx\u001b[39;00m\u001b[38;5;21;01m.\u001b[39;00m\u001b[38;5;21;01mreadwrite\u001b[39;00m\n\u001b[1;32m    116\u001b[0m \u001b[38;5;28;01mfrom\u001b[39;00m \u001b[38;5;21;01mnetworkx\u001b[39;00m\u001b[38;5;21;01m.\u001b[39;00m\u001b[38;5;21;01mreadwrite\u001b[39;00m \u001b[38;5;28;01mimport\u001b[39;00m \u001b[38;5;241m*\u001b[39m\n\u001b[1;32m    118\u001b[0m \u001b[38;5;66;03m# Need to test with SciPy, when available\u001b[39;00m\n",
      "File \u001b[0;32m/usr/lib/python3/dist-packages/networkx/readwrite/__init__.py:15\u001b[0m\n\u001b[1;32m     13\u001b[0m \u001b[38;5;28;01mfrom\u001b[39;00m \u001b[38;5;21;01mnetworkx\u001b[39;00m\u001b[38;5;21;01m.\u001b[39;00m\u001b[38;5;21;01mreadwrite\u001b[39;00m\u001b[38;5;21;01m.\u001b[39;00m\u001b[38;5;21;01mnx_yaml\u001b[39;00m \u001b[38;5;28;01mimport\u001b[39;00m \u001b[38;5;241m*\u001b[39m\n\u001b[1;32m     14\u001b[0m \u001b[38;5;28;01mfrom\u001b[39;00m \u001b[38;5;21;01mnetworkx\u001b[39;00m\u001b[38;5;21;01m.\u001b[39;00m\u001b[38;5;21;01mreadwrite\u001b[39;00m\u001b[38;5;21;01m.\u001b[39;00m\u001b[38;5;21;01mgml\u001b[39;00m \u001b[38;5;28;01mimport\u001b[39;00m \u001b[38;5;241m*\u001b[39m\n\u001b[0;32m---> 15\u001b[0m \u001b[38;5;28;01mfrom\u001b[39;00m \u001b[38;5;21;01mnetworkx\u001b[39;00m\u001b[38;5;21;01m.\u001b[39;00m\u001b[38;5;21;01mreadwrite\u001b[39;00m\u001b[38;5;21;01m.\u001b[39;00m\u001b[38;5;21;01mgraphml\u001b[39;00m \u001b[38;5;28;01mimport\u001b[39;00m \u001b[38;5;241m*\u001b[39m\n\u001b[1;32m     16\u001b[0m \u001b[38;5;28;01mfrom\u001b[39;00m \u001b[38;5;21;01mnetworkx\u001b[39;00m\u001b[38;5;21;01m.\u001b[39;00m\u001b[38;5;21;01mreadwrite\u001b[39;00m\u001b[38;5;21;01m.\u001b[39;00m\u001b[38;5;21;01mgexf\u001b[39;00m \u001b[38;5;28;01mimport\u001b[39;00m \u001b[38;5;241m*\u001b[39m\n\u001b[1;32m     17\u001b[0m \u001b[38;5;28;01mfrom\u001b[39;00m \u001b[38;5;21;01mnetworkx\u001b[39;00m\u001b[38;5;21;01m.\u001b[39;00m\u001b[38;5;21;01mreadwrite\u001b[39;00m\u001b[38;5;21;01m.\u001b[39;00m\u001b[38;5;21;01mnx_shp\u001b[39;00m \u001b[38;5;28;01mimport\u001b[39;00m \u001b[38;5;241m*\u001b[39m\n",
      "File \u001b[0;32m/usr/lib/python3/dist-packages/networkx/readwrite/graphml.py:314\u001b[0m\n\u001b[1;32m    310\u001b[0m             \u001b[38;5;28;01mraise\u001b[39;00m nx\u001b[38;5;241m.\u001b[39mNetworkXError(\u001b[38;5;124m'\u001b[39m\u001b[38;5;124mfile not successfully read as graphml\u001b[39m\u001b[38;5;124m'\u001b[39m)\n\u001b[1;32m    311\u001b[0m     \u001b[38;5;28;01mreturn\u001b[39;00m glist[\u001b[38;5;241m0\u001b[39m]\n\u001b[0;32m--> 314\u001b[0m \u001b[38;5;28;43;01mclass\u001b[39;49;00m\u001b[43m \u001b[49m\u001b[38;5;21;43;01mGraphML\u001b[39;49;00m\u001b[43m(\u001b[49m\u001b[38;5;28;43mobject\u001b[39;49m\u001b[43m)\u001b[49m\u001b[43m:\u001b[49m\n\u001b[1;32m    315\u001b[0m \u001b[43m    \u001b[49m\u001b[43mNS_GRAPHML\u001b[49m\u001b[43m \u001b[49m\u001b[38;5;241;43m=\u001b[39;49m\u001b[43m \u001b[49m\u001b[38;5;124;43m\"\u001b[39;49m\u001b[38;5;124;43mhttp://graphml.graphdrawing.org/xmlns\u001b[39;49m\u001b[38;5;124;43m\"\u001b[39;49m\n\u001b[1;32m    316\u001b[0m \u001b[43m    \u001b[49m\u001b[43mNS_XSI\u001b[49m\u001b[43m \u001b[49m\u001b[38;5;241;43m=\u001b[39;49m\u001b[43m \u001b[49m\u001b[38;5;124;43m\"\u001b[39;49m\u001b[38;5;124;43mhttp://www.w3.org/2001/XMLSchema-instance\u001b[39;49m\u001b[38;5;124;43m\"\u001b[39;49m\n",
      "File \u001b[0;32m/usr/lib/python3/dist-packages/networkx/readwrite/graphml.py:346\u001b[0m, in \u001b[0;36mGraphML\u001b[0;34m()\u001b[0m\n\u001b[1;32m    341\u001b[0m     \u001b[38;5;28;01mpass\u001b[39;00m\n\u001b[1;32m    342\u001b[0m \u001b[38;5;28;01melse\u001b[39;00m:\n\u001b[1;32m    343\u001b[0m     \u001b[38;5;66;03m# prepend so that python types are created upon read (last entry wins)\u001b[39;00m\n\u001b[1;32m    344\u001b[0m     types \u001b[38;5;241m=\u001b[39m [(np\u001b[38;5;241m.\u001b[39mfloat64, \u001b[38;5;124m\"\u001b[39m\u001b[38;5;124mfloat\u001b[39m\u001b[38;5;124m\"\u001b[39m), (np\u001b[38;5;241m.\u001b[39mfloat32, \u001b[38;5;124m\"\u001b[39m\u001b[38;5;124mfloat\u001b[39m\u001b[38;5;124m\"\u001b[39m),\n\u001b[1;32m    345\u001b[0m              (np\u001b[38;5;241m.\u001b[39mfloat16, \u001b[38;5;124m\"\u001b[39m\u001b[38;5;124mfloat\u001b[39m\u001b[38;5;124m\"\u001b[39m), (np\u001b[38;5;241m.\u001b[39mfloat_, \u001b[38;5;124m\"\u001b[39m\u001b[38;5;124mfloat\u001b[39m\u001b[38;5;124m\"\u001b[39m),\n\u001b[0;32m--> 346\u001b[0m              (\u001b[43mnp\u001b[49m\u001b[38;5;241;43m.\u001b[39;49m\u001b[43mint\u001b[49m, \u001b[38;5;124m\"\u001b[39m\u001b[38;5;124mint\u001b[39m\u001b[38;5;124m\"\u001b[39m), (np\u001b[38;5;241m.\u001b[39mint8, \u001b[38;5;124m\"\u001b[39m\u001b[38;5;124mint\u001b[39m\u001b[38;5;124m\"\u001b[39m),\n\u001b[1;32m    347\u001b[0m              (np\u001b[38;5;241m.\u001b[39mint16, \u001b[38;5;124m\"\u001b[39m\u001b[38;5;124mint\u001b[39m\u001b[38;5;124m\"\u001b[39m), (np\u001b[38;5;241m.\u001b[39mint32, \u001b[38;5;124m\"\u001b[39m\u001b[38;5;124mint\u001b[39m\u001b[38;5;124m\"\u001b[39m),\n\u001b[1;32m    348\u001b[0m              (np\u001b[38;5;241m.\u001b[39mint64, \u001b[38;5;124m\"\u001b[39m\u001b[38;5;124mint\u001b[39m\u001b[38;5;124m\"\u001b[39m), (np\u001b[38;5;241m.\u001b[39muint8, \u001b[38;5;124m\"\u001b[39m\u001b[38;5;124mint\u001b[39m\u001b[38;5;124m\"\u001b[39m),\n\u001b[1;32m    349\u001b[0m              (np\u001b[38;5;241m.\u001b[39muint16, \u001b[38;5;124m\"\u001b[39m\u001b[38;5;124mint\u001b[39m\u001b[38;5;124m\"\u001b[39m), (np\u001b[38;5;241m.\u001b[39muint32, \u001b[38;5;124m\"\u001b[39m\u001b[38;5;124mint\u001b[39m\u001b[38;5;124m\"\u001b[39m),\n\u001b[1;32m    350\u001b[0m              (np\u001b[38;5;241m.\u001b[39muint64, \u001b[38;5;124m\"\u001b[39m\u001b[38;5;124mint\u001b[39m\u001b[38;5;124m\"\u001b[39m), (np\u001b[38;5;241m.\u001b[39mint_, \u001b[38;5;124m\"\u001b[39m\u001b[38;5;124mint\u001b[39m\u001b[38;5;124m\"\u001b[39m),\n\u001b[1;32m    351\u001b[0m              (np\u001b[38;5;241m.\u001b[39mintc, \u001b[38;5;124m\"\u001b[39m\u001b[38;5;124mint\u001b[39m\u001b[38;5;124m\"\u001b[39m), (np\u001b[38;5;241m.\u001b[39mintp, \u001b[38;5;124m\"\u001b[39m\u001b[38;5;124mint\u001b[39m\u001b[38;5;124m\"\u001b[39m),\n\u001b[1;32m    352\u001b[0m             ] \u001b[38;5;241m+\u001b[39m types\n\u001b[1;32m    354\u001b[0m xml_type \u001b[38;5;241m=\u001b[39m \u001b[38;5;28mdict\u001b[39m(types)\n\u001b[1;32m    355\u001b[0m python_type \u001b[38;5;241m=\u001b[39m \u001b[38;5;28mdict\u001b[39m(\u001b[38;5;28mreversed\u001b[39m(a) \u001b[38;5;28;01mfor\u001b[39;00m a \u001b[38;5;129;01min\u001b[39;00m types)\n",
      "File \u001b[0;32m/usr/local/lib/python3.11/dist-packages/numpy/__init__.py:324\u001b[0m, in \u001b[0;36m__getattr__\u001b[0;34m(attr)\u001b[0m\n\u001b[1;32m    319\u001b[0m     warnings\u001b[38;5;241m.\u001b[39mwarn(\n\u001b[1;32m    320\u001b[0m         \u001b[38;5;124mf\u001b[39m\u001b[38;5;124m\"\u001b[39m\u001b[38;5;124mIn the future `np.\u001b[39m\u001b[38;5;132;01m{\u001b[39;00mattr\u001b[38;5;132;01m}\u001b[39;00m\u001b[38;5;124m` will be defined as the \u001b[39m\u001b[38;5;124m\"\u001b[39m\n\u001b[1;32m    321\u001b[0m         \u001b[38;5;124m\"\u001b[39m\u001b[38;5;124mcorresponding NumPy scalar.\u001b[39m\u001b[38;5;124m\"\u001b[39m, \u001b[38;5;167;01mFutureWarning\u001b[39;00m, stacklevel\u001b[38;5;241m=\u001b[39m\u001b[38;5;241m2\u001b[39m)\n\u001b[1;32m    323\u001b[0m \u001b[38;5;28;01mif\u001b[39;00m attr \u001b[38;5;129;01min\u001b[39;00m __former_attrs__:\n\u001b[0;32m--> 324\u001b[0m     \u001b[38;5;28;01mraise\u001b[39;00m \u001b[38;5;167;01mAttributeError\u001b[39;00m(__former_attrs__[attr])\n\u001b[1;32m    326\u001b[0m \u001b[38;5;28;01mif\u001b[39;00m attr \u001b[38;5;241m==\u001b[39m \u001b[38;5;124m'\u001b[39m\u001b[38;5;124mtesting\u001b[39m\u001b[38;5;124m'\u001b[39m:\n\u001b[1;32m    327\u001b[0m     \u001b[38;5;28;01mimport\u001b[39;00m \u001b[38;5;21;01mnumpy\u001b[39;00m\u001b[38;5;21;01m.\u001b[39;00m\u001b[38;5;21;01mtesting\u001b[39;00m \u001b[38;5;28;01mas\u001b[39;00m \u001b[38;5;21;01mtesting\u001b[39;00m\n",
      "\u001b[0;31mAttributeError\u001b[0m: module 'numpy' has no attribute 'int'.\n`np.int` was a deprecated alias for the builtin `int`. To avoid this error in existing code, use `int` by itself. Doing this will not modify any behavior and is safe. When replacing `np.int`, you may wish to use e.g. `np.int64` or `np.int32` to specify the precision. If you wish to review your current use, check the release note link for additional information.\nThe aliases was originally deprecated in NumPy 1.20; for more details and guidance see the original release note at:\n    https://numpy.org/devdocs/release/1.20.0-notes.html#deprecations"
     ]
    }
   ],
   "source": [
    "import networkx as nx\n",
    "\n",
    "# creating the graph from the above example\n",
    "\n",
    "G = nx.Graph()\n",
    "G.add_edges_from([(1,2), (2,3), (3,4), (3,5), (2,6), (1,7), (1,8), (8,9),\n",
    "                  (9,10), (9,11), (8,12)])\n",
    "\n",
    "\n",
    "def dfs_recursive(graph, vertex, visited):\n",
    "    \"\"\"Resursive implementation of DFS.\n",
    "\n",
    "    Parameters\n",
    "    ----------\n",
    "    graph : networkx.Graph\n",
    "        The graph to be searched.\n",
    "    vertex : int\n",
    "        The identifier of the vertex from which to search in the current\n",
    "        iteration.\n",
    "    visited : list\n",
    "        A list of integer identifiers of already visited vertices. Expected to\n",
    "        be empty at the beginning, then updated as the recursion progresses.\n",
    "\n",
    "    Returns\n",
    "    -------\n",
    "    list\n",
    "        A list of integer identifiers of the visited vertices ordered by the\n",
    "        time at which they were visited.\n",
    "    \"\"\"\n",
    "\n",
    "    visited.append(vertex) # updating the list of visited vertices\n",
    "\n",
    "    # iterating through the neighbour vertices\n",
    "    neighbours = graph[vertex]\n",
    "    for neighbour in neighbours:\n",
    "        if neighbour not in visited: # going deeper if not visited yet\n",
    "            visited = dfs_recursive(graph, neighbour, visited)\n",
    "\n",
    "    return visited"
   ]
  },
  {
   "cell_type": "code",
   "execution_count": 3,
   "metadata": {
    "id": "4mdwguKTzU6N"
   },
   "outputs": [
    {
     "ename": "NameError",
     "evalue": "name 'nx' is not defined",
     "output_type": "error",
     "traceback": [
      "\u001b[0;31m---------------------------------------------------------------------------\u001b[0m",
      "\u001b[0;31mNameError\u001b[0m                                 Traceback (most recent call last)",
      "Cell \u001b[0;32mIn[3], line 3\u001b[0m\n\u001b[1;32m      1\u001b[0m \u001b[38;5;66;03m# printing out sample search sequences\u001b[39;00m\n\u001b[0;32m----> 3\u001b[0m G \u001b[38;5;241m=\u001b[39m \u001b[43mnx\u001b[49m\u001b[38;5;241m.\u001b[39mGraph()\n\u001b[1;32m      4\u001b[0m edges \u001b[38;5;241m=\u001b[39m [(\u001b[38;5;241m1\u001b[39m,\u001b[38;5;241m2\u001b[39m), (\u001b[38;5;241m2\u001b[39m,\u001b[38;5;241m3\u001b[39m), (\u001b[38;5;241m3\u001b[39m,\u001b[38;5;241m4\u001b[39m), (\u001b[38;5;241m3\u001b[39m,\u001b[38;5;241m5\u001b[39m), (\u001b[38;5;241m2\u001b[39m,\u001b[38;5;241m6\u001b[39m), (\u001b[38;5;241m1\u001b[39m,\u001b[38;5;241m7\u001b[39m), (\u001b[38;5;241m1\u001b[39m,\u001b[38;5;241m8\u001b[39m), (\u001b[38;5;241m8\u001b[39m,\u001b[38;5;241m9\u001b[39m), (\u001b[38;5;241m9\u001b[39m,\u001b[38;5;241m10\u001b[39m),\n\u001b[1;32m      5\u001b[0m          (\u001b[38;5;241m9\u001b[39m,\u001b[38;5;241m11\u001b[39m), (\u001b[38;5;241m8\u001b[39m,\u001b[38;5;241m12\u001b[39m)]\n\u001b[1;32m      6\u001b[0m G\u001b[38;5;241m.\u001b[39madd_edges_from(edges)\n",
      "\u001b[0;31mNameError\u001b[0m: name 'nx' is not defined"
     ]
    }
   ],
   "source": [
    "# printing out sample search sequences\n",
    "\n",
    "G = nx.Graph()\n",
    "edges = [(1,2), (2,3), (3,4), (3,5), (2,6), (1,7), (1,8), (8,9), (9,10),\n",
    "         (9,11), (8,12)]\n",
    "G.add_edges_from(edges)\n",
    "print('Recursive DFS - search sequence from vertex 1:  ' +\n",
    "      f'{dfs_recursive(G, 1, [])}')\n",
    "print('Recursive DFS - search sequence from vertex 12: ' +\n",
    "      f'{dfs_recursive(G, 12, [])}')\n",
    "\n",
    "G = nx.Graph()\n",
    "reversed_edges = reversed([(1,2), (2,3), (3,4), (3,5), (2,6), (1,7), (1,8),\n",
    "                           (8,9), (9,10), (9,11), (8,12)])\n",
    "G.add_edges_from(reversed_edges)\n",
    "print('Recursive DFS (reversed edges) - search sequence from vertex 1:  ' +\n",
    "      f'{dfs_recursive(G, 1, [])}')\n",
    "print('Recursive DFS (reversed edges) - search sequence from vertex 12: ' +\n",
    "      f'{dfs_recursive(G, 12, [])}')"
   ]
  },
  {
   "cell_type": "markdown",
   "metadata": {
    "id": "FffsRcR7sQZT"
   },
   "source": [
    "### __Exercise 1.1: Non-recursive DFS using a stack__\n",
    "- Implement a non-recursive version of DFS using a stack of vertices and their neighbours.\n",
    "- Always take the most recently visited vertex from the stack and search the previously unseen neighbour vertices further, until the stack is empty.\n",
    " - Note: To implement the stack, use simply a list, adding and removing elements using the `append()` and `pop()` functions, respectively."
   ]
  },
  {
   "cell_type": "code",
   "execution_count": 6,
   "metadata": {
    "id": "9z9o7CFwsQZU"
   },
   "outputs": [],
   "source": [
    "def dfs_stack(graph, vertex):\n",
    "    \"\"\"Iterative implementation of DFS.\n",
    "\n",
    "    Parameters\n",
    "    ----------\n",
    "    graph : networkx.Graph\n",
    "        The graph to be searched.\n",
    "    vertex : int\n",
    "        The identifier of the vertex from which to begin the search.\n",
    "\n",
    "    Returns\n",
    "    -------\n",
    "    list\n",
    "        A list of integer identifiers of the visited vertices ordered by the\n",
    "        time at which they were visited.\n",
    "    \"\"\"\n",
    "\n",
    "    visited = [] # TODO - COMPLETE THE INITIALISATION OF A LIST OF VISITED\n",
    "    stack = [vertex] # TODO - COMPLETE THE INITIALISATION OF THE STACK LIST\n",
    "\n",
    "    # processing the stack until it's empty\n",
    "    while stack:\n",
    "        vertex = stack.pop()\n",
    "        if vertex in visited:\n",
    "            continue\n",
    "        visited.append(vertex)\n",
    "        for neighbor in graph[vertex]:\n",
    "            stack.append(neighbor)\n",
    "\n",
    "    return visited"
   ]
  },
  {
   "cell_type": "code",
   "execution_count": 7,
   "metadata": {
    "id": "bzyKjQTXzYNO"
   },
   "outputs": [
    {
     "ename": "NameError",
     "evalue": "name 'G' is not defined",
     "output_type": "error",
     "traceback": [
      "\u001b[0;31m---------------------------------------------------------------------------\u001b[0m",
      "\u001b[0;31mNameError\u001b[0m                                 Traceback (most recent call last)",
      "Cell \u001b[0;32mIn[7], line 3\u001b[0m\n\u001b[1;32m      1\u001b[0m \u001b[38;5;66;03m# printing out sample search sequences\u001b[39;00m\n\u001b[1;32m      2\u001b[0m \u001b[38;5;28mprint\u001b[39m(\u001b[38;5;124m'\u001b[39m\u001b[38;5;124mDFS with stack - search sequence from vertex 1: \u001b[39m\u001b[38;5;124m'\u001b[39m \u001b[38;5;241m+\u001b[39m\n\u001b[0;32m----> 3\u001b[0m       \u001b[38;5;124mf\u001b[39m\u001b[38;5;124m'\u001b[39m\u001b[38;5;132;01m{\u001b[39;00mdfs_stack(\u001b[43mG\u001b[49m,\u001b[38;5;250m \u001b[39m\u001b[38;5;241m1\u001b[39m)\u001b[38;5;132;01m}\u001b[39;00m\u001b[38;5;124m'\u001b[39m)\n",
      "\u001b[0;31mNameError\u001b[0m: name 'G' is not defined"
     ]
    }
   ],
   "source": [
    "# printing out sample search sequences\n",
    "print('DFS with stack - search sequence from vertex 1: ' +\n",
    "      f'{dfs_stack(G, 1)}')"
   ]
  },
  {
   "cell_type": "markdown",
   "metadata": {
    "id": "6ZsOFRX_sQZb"
   },
   "source": [
    "### __Exrercise 1.2: Recursive DFS with a depth limit__\n",
    "- Implement a DFS version where one can stop the recursive search when reaching a given depth (i.e. the distance from the root of the search)."
   ]
  },
  {
   "cell_type": "code",
   "execution_count": null,
   "metadata": {
    "id": "JlQ5JHalsQZc"
   },
   "outputs": [],
   "source": [
    "def dfs_recursive_limited(graph, vertex, visited, depth, max_depth=0):\n",
    "    \"\"\"Recursive implementation of DFS with a depth limit.\n",
    "\n",
    "    Parameters\n",
    "    ----------\n",
    "    graph : networkx.Graph\n",
    "        The graph to be searched.\n",
    "    vertex : int\n",
    "        The identifier of the vertex from which to begin the search.\n",
    "    visited : list\n",
    "        A list of integer identifiers of already visited vertices. Expected to\n",
    "        be empty at the initial call, then updated as the recursion progresses.\n",
    "    depth : int\n",
    "        The current search depth. Expected to be 0 at the beginning, then\n",
    "        updated as the recursion progresses.\n",
    "    max_depth : int, optional (default is 0)\n",
    "        The maximum depth to which the graph is searched. Can be measured in\n",
    "        number of vertices or number of edges on the path from the start to\n",
    "        the deepest vertices (up to you). If max_depth==0, then the whole graph\n",
    "        is searched.\n",
    "\n",
    "    Returns\n",
    "    -------\n",
    "    list\n",
    "        A list of integer identifiers of the visited vertices ordered by the\n",
    "        time at which they were visited.\n",
    "    \"\"\"\n",
    "\n",
    "    visited.append(vertex) # updating the list of visited vertices\n",
    "\n",
    "    # TODO - COMPLETE YOURSELVES\n",
    "\n",
    "    return visited"
   ]
  },
  {
   "cell_type": "code",
   "execution_count": null,
   "metadata": {
    "id": "kfdREomBzjx9"
   },
   "outputs": [],
   "source": [
    "# printing out the search sequence from vertex 1\n",
    "print('DFS with limit - search sequence from vertex 1, max. depth 2: ' +\n",
    "      f'{dfs_recursive_limited(G, 1, [], 0, max_depth=2)}')"
   ]
  },
  {
   "cell_type": "markdown",
   "metadata": {
    "id": "XZbowTXBsQZs"
   },
   "source": [
    "---\n",
    "\n",
    "## 2. [Breadth-First Search](https://en.wikipedia.org/wiki/Breadth-first_search) (BFS for short)\n",
    "\n",
    "__Basic facts__\n",
    "- Another basic algorithm for searching a state space represented as a graph.\n",
    "- BFS, quite like DFS, is based on searching the graph from one root vertex.\n",
    "- However, it prioritises the list of neighbours of the currently searched vertex before going one level deeper.\n",
    "\n",
    "__Example__ - the order of visited notes in a sample graph:\n",
    "\n",
    "![bfs.png](https://www.fi.muni.cz/~novacek/courses/pb016/labs/img/bfs.png)"
   ]
  },
  {
   "cell_type": "markdown",
   "metadata": {
    "id": "EglJ1pQbsQZt"
   },
   "source": [
    "### __Exercise 2.1: BFS using a queue__\n",
    "- Implement BFS using a queue.\n",
    "- Maintain a queue of vertices to traverse, to which the visited vertices and their neighbours are being added.\n",
    " - Note: For implementing the queue, a standard list is enough again. The elements can be added using the `append()` function, just like we did for a stack, but they are removed from the head, i.e. the beginning of the list, using `pop(0)`.\n",
    "- Take the next vertex to be traversed from the head of the queue until it's empty."
   ]
  },
  {
   "cell_type": "code",
   "execution_count": null,
   "metadata": {
    "id": "rq8T-vTVom0b"
   },
   "outputs": [],
   "source": [
    "# creating the graph from the above example\n",
    "import networkx as nx\n",
    "G = nx.Graph()\n",
    "G.add_edges_from([(1,2), (2,5), (5,9), (5,10), (2,6), (1,3), (1,4), (4,7),\n",
    "                  (4,8), (7,11), (7,12)])"
   ]
  },
  {
   "cell_type": "code",
   "execution_count": null,
   "metadata": {
    "id": "aTtWqagTsQZt"
   },
   "outputs": [],
   "source": [
    "def bfs_queue(graph, vertex):\n",
    "    \"\"\"Implementation of BFS using queue.\n",
    "\n",
    "    Parameters\n",
    "    ----------\n",
    "    graph : networkx.Graph\n",
    "        The graph to be searched.\n",
    "    vertex : int\n",
    "        The identifier of the vertex from which to begin the search.\n",
    "\n",
    "    Returns\n",
    "    -------\n",
    "    list\n",
    "        A list of integer identifiers of the visited vertices ordered by the\n",
    "        time at which they were visited.\n",
    "    \"\"\"\n",
    "\n",
    "    visited = [] # initialising the list of visited vertices\n",
    "    queue = [] # TODO - COMPLETE THE QUEUE INITIALISATION\n",
    "\n",
    "    # processing the queue until it's empty\n",
    "    while queue:\n",
    "        # TODO - COMPLETE YOURSELVES\n",
    "        break # TODO - remove in the actual implementation\n",
    "\n",
    "    return visited"
   ]
  },
  {
   "cell_type": "code",
   "execution_count": null,
   "metadata": {
    "id": "-0JqA636zqsj"
   },
   "outputs": [],
   "source": [
    "# printing out the search sequence from vertex 1\n",
    "print(f'BFS - search sequence from vertex 1: {bfs_queue(G, 1)}')"
   ]
  },
  {
   "cell_type": "markdown",
   "metadata": {
    "id": "zXPg7C9zsQZ0"
   },
   "source": [
    "---\n",
    "\n",
    "## 3. N-queens problem (c.f. [Eight Queens Puzzle](https://en.wikipedia.org/wiki/Eight_queens_puzzle))\n",
    "\n",
    "__Basic facts__\n",
    "- A classic problem in mathematics and programming.\n",
    "- The point is to place N queens on an NxN board so that they don't threaten each other.\n",
    "- Easily defined, yet hard (and thus \"big\") problem.\n",
    "\n",
    "| Board size | Possible positions | Total solutions | Unique solutions |\n",
    "| ------------------- | ----------------- | -------------------- | ----------------------- |\n",
    "| 1 x 1 \t          | 1                 | 1 \t                 | 1                       |\n",
    "| 2 x 2 \t          | 6                 | 0                    | 0                       |\n",
    "| 3 x 3 \t          | 84                | 0                    | 0                       |\n",
    "| 4 x 4 \t          | 1,820             | 2                    | 1                       |\n",
    "| 5 x 5 \t          | 53,130            | 10                   | 2                       |\n",
    "| 6 x 6 \t          | 1,947,792         | 4                    | 1                       |\n",
    "| 7 x 7 \t          | 85,900,584        | 40                   | 6                       |\n",
    "| 8 x 8 \t          | 4,426,165,368     | 92                   | 12                      |\n",
    "| ...   \t          | ...               | ...                  | ...                     |\n",
    "\n",
    "__Example__ - a solution to the 8 queens problem:\n",
    "\n",
    "![8queens.png](https://www.fi.muni.cz/~novacek/courses/pb016/labs/img/8queens.png)"
   ]
  },
  {
   "cell_type": "markdown",
   "metadata": {
    "id": "al6-7zmFsQZ1"
   },
   "source": [
    "### A brute-force solution\n",
    "- Generating all possible combinations of queen placements (i.e. positions).\n",
    "- Checking if all queens in the given position are safe.\n",
    "- A technical note:\n",
    " - The `yield` keyword used in the `generate_all_boards()` function instead of the perhaps more typical `return` effectively makes the function a generator (which can be used exactly in the same way like  an iterator through a Python collection object).\n",
    " - The advantage in this particular case (and many other similar ones) is that we don't need to generate all possible solutions (i.e. boards) before returning them, but instead generate one at a time and pass it to the higher-level code for further processing.\n",
    " - This saves a lot of computational overhead and memory."
   ]
  },
  {
   "cell_type": "code",
   "execution_count": 8,
   "metadata": {
    "id": "2CQ_8BX_sQZ1",
    "scrolled": true
   },
   "outputs": [],
   "source": [
    "# defining the necessary functions first\n",
    "\n",
    "import itertools as it # will need this for generating the positions\n",
    "\n",
    "def generate_all_boards(n=8):\n",
    "    \"\"\"Position generator function.\n",
    "\n",
    "    Parameters\n",
    "    ----------\n",
    "    n : int\n",
    "        The size of the board (n x n) and the number of queens to place on it.\n",
    "\n",
    "    Returns\n",
    "    -------\n",
    "    iterator\n",
    "        A generator iterator that allows for listing through all possible\n",
    "        ways of placing n queens on an n x n board. Each item yielded by the\n",
    "        function is a list of n coordinate pairs that give the specific\n",
    "        positions of n queens on an n x n board (e.g., [(0,0), (1,1), (2,2)]\n",
    "        for 3 queens positioned on a diagonal of a 3 x 3 board).\n",
    "    \"\"\"\n",
    "\n",
    "    # generating a list of all fields on the board\n",
    "    fields = [(i, j) for i in range(n) for j in range(n)]\n",
    "\n",
    "    # generating all possible placements of the queens onto the board (i.e.\n",
    "    # lists of N different occupied fields)\n",
    "    for board in it.combinations(fields,n):\n",
    "        yield board\n",
    "\n",
    "\n",
    "def safe_board(board, n=8):\n",
    "    \"\"\"Function for testing whether the position is safe.\n",
    "\n",
    "    Parameters\n",
    "    ----------\n",
    "    board : list\n",
    "        A representation of the board with n queens placed on it: a list\n",
    "        of n coordinate pairs that give the specific positions of n queens on\n",
    "        an n x n board (e.g., [(0,0), (1,1), (2,2)] for 3 queens positioned on\n",
    "        a diagonal of a 3 x 3 board).\n",
    "    n : int\n",
    "        The size of the board and number of queens placed there.\n",
    "\n",
    "    Returns\n",
    "    -------\n",
    "    bool\n",
    "        Whether or not the positioning of the queens on the board is safe.\n",
    "    \"\"\"\n",
    "\n",
    "    # too big or small board, wrong by default\n",
    "    if len(board) != n:\n",
    "        return False\n",
    "\n",
    "    # checking the threat to the queens one by one in the position list\n",
    "    for i in range(n):\n",
    "        x1, y1 = board[i] # get the queen's coordinates\n",
    "\n",
    "        # checking only the remaining ones, the previous ones are OK\n",
    "        for x2, y2 in board[i+1:]:\n",
    "            if x1 == x2: # a queen in the same row\n",
    "                return False\n",
    "            elif y1 == y2: # a queen in the same column\n",
    "                return False\n",
    "            elif x2 - x1 == y2 - y1: # a queen in the same primary diagonal\n",
    "                return False\n",
    "            elif x2 - x1 == y1 - y2: # a queen in the same secondary diagonal\n",
    "                return False\n",
    "\n",
    "    # no test has failed, all queens safe\n",
    "    return True\n",
    "\n",
    "\n",
    "def print_board(board, n=8):\n",
    "    \"\"\"Auxiliary function for printing the queen positions on a board.\n",
    "\n",
    "    Parameters\n",
    "    ----------\n",
    "    board : list\n",
    "        A representation of the board with n queens placed on it: a list\n",
    "        of n coordinate pairs that give the specific positions of n queens on\n",
    "        an n x n board (e.g., [(0,0), (1,1), (2,2)] for 3 queens positioned on\n",
    "        a diagonal of a 3 x 3 board).\n",
    "    n : int\n",
    "        The size of the board and number of queens placed there.\n",
    "    \"\"\"\n",
    "\n",
    "    rows = []\n",
    "    for i in range(n):\n",
    "        column = []\n",
    "        for j in range(n):\n",
    "            if (i,j) in board:\n",
    "                column.append('Q')\n",
    "            else:\n",
    "                column.append('-')\n",
    "        rows.append(' '.join(column))\n",
    "    print('\\n'.join(rows))\n",
    "\n",
    "\n",
    "def print_brute_force_solutions(n=8):\n",
    "    \"\"\"Auxiliary function for generating and testing all possible positionings\n",
    "    of n queens on an n x n board, printing out the safe ones.\n",
    "\n",
    "    Parameters\n",
    "    ----------\n",
    "    n : int\n",
    "        The size of the board and number of queens placed there.\n",
    "    \"\"\"\n",
    "\n",
    "    ok, total, shoutout_step = 0, 0, 10000000\n",
    "    for board in generate_all_boards(n=n):\n",
    "        total += 1\n",
    "        if total % shoutout_step == 0:\n",
    "            print(f'... tested {total} possible positions ...')\n",
    "        if safe_board(board,n):\n",
    "            ok += 1\n",
    "            print(f'Safe position no. {ok}:')\n",
    "            print_board(board,n)\n",
    "    print(f'Finished: tested {total} positions in total, found {ok} solutions')"
   ]
  },
  {
   "cell_type": "code",
   "execution_count": 10,
   "metadata": {
    "id": "NaH_Jrypu9fY"
   },
   "outputs": [
    {
     "name": "stdout",
     "output_type": "stream",
     "text": [
      "Generating safe positions for 8 queens on a 8x8 board (brute force)\n",
      "Safe position no. 1:\n",
      "- Q - - - -\n",
      "- - - Q - -\n",
      "- - - - - Q\n",
      "Q - - - - -\n",
      "- - Q - - -\n",
      "- - - - Q -\n",
      "Safe position no. 2:\n",
      "- - Q - - -\n",
      "- - - - - Q\n",
      "- Q - - - -\n",
      "- - - - Q -\n",
      "Q - - - - -\n",
      "- - - Q - -\n",
      "Safe position no. 3:\n",
      "- - - Q - -\n",
      "Q - - - - -\n",
      "- - - - Q -\n",
      "- Q - - - -\n",
      "- - - - - Q\n",
      "- - Q - - -\n",
      "Safe position no. 4:\n",
      "- - - - Q -\n",
      "- - Q - - -\n",
      "Q - - - - -\n",
      "- - - - - Q\n",
      "- - - Q - -\n",
      "- Q - - - -\n",
      "Finished: tested 1947792 positions in total, found 4 solutions\n",
      "CPU times: user 1.26 s, sys: 1.84 ms, total: 1.27 s\n",
      "Wall time: 1.26 s\n"
     ]
    }
   ],
   "source": [
    "# printing safe solutions for N=8\n",
    "\n",
    "print('Generating safe positions for 8 queens on a 8x8 board (brute force)')\n",
    "# WARNING - will take a LOT of time - try smaller N\n",
    "%time print_brute_force_solutions(6)"
   ]
  },
  {
   "cell_type": "markdown",
   "metadata": {
    "id": "VpEq1esdsQaC"
   },
   "source": [
    "### __Exercise 3.1: N queens problem - an efficient solution using DFS and backtracking__\n",
    "- Implement a search that restricts the state space to be searched only to the valid (partial) positions:\n",
    " - We are placing the first queen to the columns in one row (for instance, starting from the \"top left\" corner of the board and going \"right\").\n",
    " - The queens in the consequent rows are then recursively placed so that they are not threatened by any of the previously placed ones.\n",
    " - If no such position is available, we are backtracking one row up.\n",
    "\n",
    "A side note - this algorithm efficiently searchs the space of candidate solutions, but it can be done better still (e.g. via [heuristic search](https://en.wikipedia.org/wiki/Heuristic_(computer_science&#41;) or modelling the task as a [constraint satisfaction problem](https://en.wikipedia.org/wiki/Constraint_satisfaction_problem), which we will discuss in other labs later on)."
   ]
  },
  {
   "cell_type": "code",
   "execution_count": null,
   "metadata": {
    "id": "uosfdhNHsQaC"
   },
   "outputs": [],
   "source": [
    "# defining the necessary functions first\n",
    "\n",
    "def place_queens(board, row, n=8):\n",
    "    \"\"\"Recursive function for placing the other queens to safe positions.\n",
    "\n",
    "    Parameters\n",
    "    ----------\n",
    "    board : list\n",
    "        A representation of the board with n queens placed on it: a list\n",
    "        of n coordinate pairs that give the specific positions of n queens on\n",
    "        an n x n board (e.g., [(0,0), (1,1), (2,2)] for 3 queens positioned on\n",
    "        a diagonal of a 3 x 3 board). Expected to be empty at the time of the\n",
    "        first call.\n",
    "    row : int\n",
    "        The row coordinate the function is to process in this call (also, the\n",
    "        number of queens already placed in previous rows). Expected to be zero\n",
    "        at the time of the first call.\n",
    "    n : int\n",
    "        The size of the board (n x n) and the number of queens to place on it.\n",
    "\n",
    "    Returns\n",
    "    -------\n",
    "    iterator\n",
    "        A generator iterator that only yields valid queen positionings.\n",
    "    \"\"\"\n",
    "\n",
    "    if row == n: # we're in the last row, meaning that all queens are safe\n",
    "        yield board # terminating recursion by yielding a valid solution\n",
    "\n",
    "    # TODO - COMPLETE THE SAFE PLACEMENT OF A QUEEN IN ROW row AND MOVING ON\n",
    "    #        WITH THE RECURSION YOURSELVES\n",
    "\n",
    "\n",
    "def print_backtracking_solutions(n=8):\n",
    "    \"\"\"Auxiliary function for printing solutions.\n",
    "\n",
    "    Parameters\n",
    "    ----------\n",
    "    n : int\n",
    "        The size of the board (n x n) and the number of queens to place on it.\n",
    "    \"\"\"\n",
    "\n",
    "    ok = 0\n",
    "    #for board in generate_solutions(n=n):\n",
    "    for board in place_queens([],0,n=n):\n",
    "        ok += 1\n",
    "        print(f'Safe position no. {ok}:')\n",
    "        print_board(board,n)\n",
    "    print(f'Finished: found {ok} solutions')"
   ]
  },
  {
   "cell_type": "code",
   "execution_count": null,
   "metadata": {
    "id": "e-PRWPhpvfxo"
   },
   "outputs": [],
   "source": [
    "# printing safe solutions for N=8\n",
    "\n",
    "print('Generating safe positions for 8 queens on a 8x8 board (efficient)')\n",
    "%time print_backtracking_solutions(8)"
   ]
  },
  {
   "cell_type": "markdown",
   "metadata": {
    "collapsed": true,
    "id": "d5WalZensQaL",
    "jupyter": {
     "outputs_hidden": true
    }
   },
   "source": [
    "---\n",
    "\n",
    "#### _Final note_ - some materials used in this notebook are adapted works licensed by their original authors as follows:\n",
    "- DFS figure:\n",
    " - Author: [Alexander Drichel](http://www.drichel.name/)\n",
    " - Original source: [Wikimedia Commons](https://commons.wikimedia.org/wiki/File:Depth-first-tree.svg)\n",
    " - License: [GFDL](https://en.wikipedia.org/wiki/GNU_Free_Documentation_License), v1.2+, [CC BY 3.0](https://creativecommons.org/licenses/by/3.0/deed.en)\n",
    "- BFS figure:\n",
    " - Author: [Alexander Drichel](http://www.drichel.name/)\n",
    " - Original source: [Wikimedia Commons](https://commons.wikimedia.org/wiki/File:Breadth-first-tree.svg)\n",
    " - License: [GFDL](https://en.wikipedia.org/wiki/GNU_Free_Documentation_License), v1.2+, [CC BY 3.0](https://creativecommons.org/licenses/by/3.0/deed.en)\n",
    "- 8queens figure:\n",
    " - Author: [Encik Tekateki](https://commons.wikimedia.org/wiki/User:Encik_Tekateki)\n",
    " - Original source: [Wikimedia Commons](https://commons.wikimedia.org/wiki/File:Solution_A_for_8_Queen_Puzzles.png)\n",
    " - License: [CC BY-SA 4.0](https://creativecommons.org/licenses/by-sa/4.0/deed.en)"
   ]
  }
 ],
 "metadata": {
  "colab": {
   "provenance": []
  },
  "kernelspec": {
   "display_name": "Python 3.11",
   "language": "python",
   "name": "py311_new"
  },
  "language_info": {
   "codemirror_mode": {
    "name": "ipython",
    "version": 3
   },
   "file_extension": ".py",
   "mimetype": "text/x-python",
   "name": "python",
   "nbconvert_exporter": "python",
   "pygments_lexer": "ipython3",
   "version": "3.11.0rc1"
  }
 },
 "nbformat": 4,
 "nbformat_minor": 4
}
