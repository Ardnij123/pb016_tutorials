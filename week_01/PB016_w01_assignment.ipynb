{
 "cells": [
  {
   "cell_type": "markdown",
   "metadata": {
    "id": "IiSEf1gXJoFY"
   },
   "source": [
    "# PB016: Artificial Intelligence I, lab 1 - General organisation of the labs (self-study material only)\n",
    "\n",
    "Outline:\n",
    "1. __The structure of the semester and the labs themselves__\n",
    "2. __Technical notes__\n",
    "3. __Sample exercises__\n",
    "4. __Useful links__"
   ]
  },
  {
   "cell_type": "markdown",
   "metadata": {
    "id": "GAG1win5JoFZ"
   },
   "source": [
    "---\n",
    "\n",
    "## 1. The structure of the semester and the labs themselves\n",
    "\n",
    "\n"
   ]
  },
  {
   "cell_type": "markdown",
   "metadata": {
    "id": "wHilpG3s56rH"
   },
   "source": [
    "__Structure of the semester__\n",
    " - This brief self-study intro\n",
    "  - No actual exercises (the classes will only start in week 2)\n",
    "  - Lab overview and technical info on how we'll run the labs\n",
    " - After that, 4 coding labs on __basic AI algorithms__ will follow (BLOCK A):\n",
    "  - Structure of search problems, state space search\n",
    "  - Heuristic search\n",
    "  - Problem decomposition and constraint satisfaction problems\n",
    "  - Games and game strategies\n",
    " - Then we'll do 3 pen-and-paper exercise labs covering __logics__ (BLOCK B), namely:\n",
    "  - Propositional logic, its semantics and normal forms\n",
    "  - First order predicate logic, its syntax and semantics\n",
    "  - Proof/inference systems, resolution (general, SLD, Prolog basics)\n",
    " - Finally, we'll have 5 coding labs focused on selected __practical applications of AI__ (BLOCK C):\n",
    "  - Knowledge representation and reasoning, uncertainty representation (a transitional lab between logics and applied AI)\n",
    "  - Natural language processing\n",
    "  - Machine learning\n",
    "  - Deep learning\n",
    "  - Large language models"
   ]
  },
  {
   "cell_type": "markdown",
   "metadata": {
    "id": "XILExw8q59Yg"
   },
   "source": [
    "__Structure of the labs themselves__\n",
    " - __Mini-test__ as a refresher of the lecture topics\n",
    "  - 6 minutes via IS, starting at the beginning of the labs, ending after 7 minutes (i.e., with 1 minute leeway - don't be late!).\n",
    "  - Each week, the minitest will consist of exercises explained in the chapter of the [exercise book](https://is.muni.cz/auth/el/fi/podzim2024/PB016/um/sbirka/pb016_sbirka.pdf) that corresponds to the previous week's lecture topic.\n",
    "  - Up to 24 points in total can be earned for the minitests (maximum of 2 per each). This will be included in the final assessment. At least 10 points from the minitests are required to be admitted to the final exam.\n",
    "  - You __must be in the class__ for the minitest and __no support materials__ are allowed. If you do a minitest from elsewhere (which is not so hard to check), the points will not be included into the final sum and you will also get -2 point penalisation.\n",
    "  - People that are officially excused via IS can do the minitest during the next labs they can attend. Please let your tutor know which time during the labs suits you so that they can set everything up for you.\n",
    "  - Negative points are zeroed out in the final sum.\n",
    " - The minitests will be followed by topic-oriented blocks that will include:\n",
    "  - A __brief overview__ of the relevant topic involving guided solutions of theoretical exercises, typically related to possible exam contents.\n",
    "  - __Exercises__ to be solved by the students, who will work on them individually or in groups of 2-3 people (the preferred option). The tutor will regularly check the student progress, ready to help if/as needed.\n",
    " - After each block, the tutor will go through sample solutions and address any possible questions.\n",
    " - The materials with assignments for each week of the labs will be available in the interactive syllabus by Sunday before the beginning of the corresponding week.\n",
    " - The same materials extended by sample solutions will be published in the interactive syllabus at the end of each week.\n",
    " - The labs are scheduled for 1 hour and 40 minutes (2 classes of 50 minutes, with no break in between)."
   ]
  },
  {
   "cell_type": "markdown",
   "metadata": {
    "id": "SmYGhVOV6BRP"
   },
   "source": [
    "__Attendance__\n",
    " - Attendance is __compulsory__.\n",
    "  - One can only miss 3 labs without an official proof of medical leave or similar submitted to the student affairs office. The attendance will be checked via completed minitests.\n",
    "  - Should a student miss their labs due to an unexpected last-minute conflict that is deemed reasonable by their lab tutor, they may attend another group that week even without an official sick leave or similar note in IS (after informing the corresponding tutors, and if the room capacity allows).\n",
    " -__Cancelled labs__ (for instance, due to national holidays) will be dealt with as follows:\n",
    "  - Students can attend another lab that week (if agreed by the corresponding tutor and the room capacity allows).\n",
    "  - For those who won't be able to do that, it doesn't count as a missed lab. The corresponding contents can be self-studied via the materials in the interactive syllabus, and their tutor can give them a quick summary next week. An online lesson at the usual time may be offered, too, at the discretion of the tutor.\n",
    "  - The minitest can be done either in the other labs during the same week, should the students attend those, or in the next regular labs with their group."
   ]
  },
  {
   "cell_type": "markdown",
   "metadata": {
    "id": "M3rw8Xbk6K7X"
   },
   "source": [
    "__Bonus points__\n",
    " - One can earn __extra points__ for exceptional performance in the labs. These will be included in the final assessment.\n",
    " - The bonus points will be awarded at the discretion of the particular tutors to those who:\n",
    "  - Find a factual error in the course materials (i.e., typos or similar minor errors don't count).\n",
    "  - Come up with an exceedingly elegant, elaborate and/or efficient solutions to the assigned problems.\n",
    " - In a class $X$, the corresponding tutor(s) __can award__ up to $B_{max}(X) = \\frac{|X|}{2}$ bonus points per semester, where $|X|$ is the number of students enrolled in $X$.\n",
    " - The minimal number of points the tutors __must award__ in a class $X$ is $B_{min}(X) = \\frac{2}{3}B_{max}(X)$.\n",
    " - The scale at which the students' activity is being rewarded during the semester is at the discretion of the tutors (i.e., they can give whole points or fractions of points to active students during any given week, do it retrospectively after each block to reflect the relative differences in the various activity types, or whatever else, indeed). The tutors must, however, eventually normalise the bonus points awarded to students during the semester so that the sum per class $X$ fits within the $B_{min}(X), B_{max}(X)$ limits.\n",
    " - The maximum number of bonus points a single student can earn over the semester after the normalisation is $6$. The points beyond that cut-off are not redistributed."
   ]
  },
  {
   "cell_type": "markdown",
   "metadata": {
    "id": "5QrsG8fBJoFa"
   },
   "source": [
    "---\n",
    "## 2. Technical notes\n",
    "\n",
    "__Lab materials and the mode of work throughout the semester__\n",
    "- All assignments will be available via the interactive syllabus of the course (the lab section) by Sunday preceding the corresponding week.\n",
    "- Sample solutions to the exercises will be available there at the end of each week.\n",
    "- The assignments of the logics exercises (BLOCK B) will be provided as PDF documents. The solutions will be elaborated in the pen-and-paper style, with the sample solutions presented by the tutors in the class from their PDF materials and/or on the whiteboard.\n",
    "- For working on the coding exercises (BLOCKS A and C), we'll use the [Python](https://www.python.org/) programming language.\n",
    "- More specifically, the assignments for the coding exercises for each week will be a single [Jupyter Notebook](https://en.wikipedia.org/wiki/Project_Jupyter#Jupyter_Notebook) (just like the one you're reading now). The students will always download their own copy of the assignments and work on it during the class.\n",
    "- The sample solutions for each week will also be made available in a single notebook, provided at the end of the week in the interactive syllabus.\n",
    "- All notebooks have been tested within the [Google Colaboratory](https://colab.research.google.com/) environment that is available to every student via their IS/MU accounts (you may need to enable Google Suite [here](https://is.muni.cz/auth/extservices/)).\n",
    " - The notebooks can easily be uploaded to your IS/MU Google Drive and opened from there by right-clicking on the corresponding file and choosing _\"Open with\" $\\rightarrow$ \"Google Colaboratory\"_ (watch out for double-left-click - that may just open the JSON source with some browser/OS configurations).\n",
    "- Feel free to use also the [Jupyter](https://jupyter.org/) environment, though. This should be available on all Linux FI MU machines after adding the Python 3 module (`module add python3`). Other alternatives like [PyCharm](https://www.jetbrains.com/pycharm/) are also perfectly fine. Just be aware that in certain weeks, you'll probably need to resolve some package dependencies on your own.\n",
    "\n",
    "__Activity/progress checks__\n",
    "- We will not be collecting or bulk-checking your solutions.\n",
    "- However, we will be going through the classes regularly and checking for progress of individual students, and empty notebooks/pages will make us very sad.\n",
    "\n",
    "__Generative AI policy__\n",
    "- We follow the general [policy](https://www.muni.cz/o-univerzite/uredni-deska/stanovisko-k-vyuzivani-ai) of the Masaryk University in terms of using generative AI tools (ChatGPT, Bard, Claude, Dall-E, Midjourney or similar) in the labs.\n",
    "- More specifically, we do not restrict the use of such tools for coming up with solutions to the assignments in the labs. In some cases, we might even encourage you to experiment with these technologies (it's an AI course, after all).\n",
    "- However, we do expect, and will check on an _ad hoc_ basis, that if you use whatever code or other types of content not authored by you (whether AI-generated or copied over from a blog or similar), you understand what it does and how it fits into your own work and the general topic of the course.\n",
    "\n",
    "__Going online__\n",
    "- If required for whatever reasons (another pandemic, war, zombie/climate apocalypse and what not, or, perhaps slightly more likely, tutor's sickness or national holidays), we may go online using Google Meet or Zoom (the specific choice would depend on the student and tutor preferences in each seminar group).\n",
    " - Google Meet (and other Google Suite tools) must be activated via [external IS services](https://is.muni.cz/auth/extservices/)\n",
    " - Zoom classes will be organised by the tutors and links will be set up via the e-learning support in IS.\n",
    "- Futher instructions would follow as required via email.\n",
    "\n"
   ]
  },
  {
   "cell_type": "markdown",
   "metadata": {
    "id": "UjnzxqdyNBoV"
   },
   "source": [
    "---\n",
    "## 3. Sample exercises\n",
    "\n",
    "### 3.1 A sample exercise on AI algorithms"
   ]
  },
  {
   "cell_type": "markdown",
   "metadata": {
    "id": "ltpDreT7gG3S"
   },
   "source": [
    "#### __Exercise__\n",
    "- Implement a simple classifier of data points represented by vectors (i.e., Python n-tuples).\n",
    "- The classifier will consider vectors with the Euclidean norm equal to 1 as _normal_, and mark the rest as _some sort of scruffy weirdness_.\n",
    "\n",
    "#### __Solution (to edit the code cell, you can simply left-click on it) - try for yourselves!__"
   ]
  },
  {
   "cell_type": "code",
   "execution_count": 2,
   "metadata": {
    "id": "wuftpp42JoFb"
   },
   "outputs": [
    {
     "name": "stdout",
     "output_type": "stream",
     "text": [
      "(0, 2, 1) : some sort of scruffy weirdness\n",
      "(1, 0, 0) : normal vector\n",
      "(0.5, 0.5, -0.5) : some sort of scruffy weirdness\n"
     ]
    }
   ],
   "source": [
    "from math import sqrt\n",
    "\n",
    "# function for computing the Euclidean norm\n",
    "\n",
    "def euclidean_norm(v):\n",
    "  sq_norm = 0\n",
    "  for vertex in v:\n",
    "      sq_norm += vertex**2\n",
    "  return sqrt(sq_norm)\n",
    "\n",
    "# function for classifying vectors\n",
    "\n",
    "def classify_vector(v):\n",
    "\n",
    "  if euclidean_norm(v) == 1:\n",
    "    return 'normal vector'\n",
    "  return 'some sort of scruffy weirdness'\n",
    "\n",
    "# printing out classification of a few vectors\n",
    "for v in [(0,2,1), (1,0,0), (0.5,0.5,-0.5)]:\n",
    "  print(v, ':', classify_vector(v))"
   ]
  },
  {
   "cell_type": "markdown",
   "metadata": {
    "id": "yjUcxEKbNGfb"
   },
   "source": [
    "### 3.2 Sample exercises on logics"
   ]
  },
  {
   "cell_type": "markdown",
   "metadata": {
    "id": "ZfHwblKFkihM"
   },
   "source": [
    "#### __Exercise__\n",
    "For the formula $\\phi$ and interpretation $I$, define $I(\\phi)$:\n",
    "- $\\phi = (p \\vee q) \\Rightarrow (\\neg p \\wedge q)$, where $I(p) = 1$, $I(q) = 1$"
   ]
  },
  {
   "cell_type": "markdown",
   "metadata": {
    "id": "m5llVhrel3cb"
   },
   "source": [
    "#### __Exercise__\n",
    "Create a truth table for the formula $\\phi$ defined as follows:\n",
    "- $\\phi = p \\Rightarrow (\\neg p \\Rightarrow q)$"
   ]
  },
  {
   "cell_type": "markdown",
   "metadata": {
    "id": "LO5WMdCpi1PR"
   },
   "source": [
    "#### __Exercise__\n",
    "- Let us have the following program in the Prolog language:\n",
    "```\n",
    "even(0).\n",
    "even(s(X)):- odd(X).\n",
    "odd(s(0)).\n",
    "odd(s(X)):- even(X).\n",
    "```\n",
    "Create the SLD tree for the goal `?- odd(s(s(s(0)))).`"
   ]
  },
  {
   "cell_type": "markdown",
   "metadata": {
    "id": "Vsv16anAOSq-"
   },
   "source": [
    "---\n",
    "## 4. Useful materials\n",
    "- [Tutorial](https://colab.research.google.com/notebooks/intro.ipynb) on Google Colaboratory.\n",
    "- [Getting started](https://docs.jupyter.org/en/latest/start/index.html) with Jupyter [notebook](https://jupyter-notebook.readthedocs.io/en/latest/) or [labs](https://jupyterlab.readthedocs.io/en/stable/)."
   ]
  }
 ],
 "metadata": {
  "colab": {
   "provenance": []
  },
  "kernelspec": {
   "display_name": "Python 3 (ipykernel)",
   "language": "python",
   "name": "python3"
  },
  "language_info": {
   "codemirror_mode": {
    "name": "ipython",
    "version": 3
   },
   "file_extension": ".py",
   "mimetype": "text/x-python",
   "name": "python",
   "nbconvert_exporter": "python",
   "pygments_lexer": "ipython3",
   "version": "3.11.0rc1"
  }
 },
 "nbformat": 4,
 "nbformat_minor": 4
}
